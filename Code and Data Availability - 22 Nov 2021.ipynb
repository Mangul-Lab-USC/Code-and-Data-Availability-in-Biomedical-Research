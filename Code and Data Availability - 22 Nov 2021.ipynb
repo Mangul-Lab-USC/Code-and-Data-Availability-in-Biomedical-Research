{
 "cells": [
  {
   "cell_type": "code",
   "execution_count": 35,
   "id": "marked-hayes",
   "metadata": {},
   "outputs": [],
   "source": [
    "import pandas as pd\n",
    "from scipy import stats\n",
    "import seaborn as sns\n",
    "import matplotlib.pyplot as plt\n",
    "import matplotlib.lines as mlines\n",
    "import matplotlib.transforms as mtransforms\n",
    "import matplotlib.patches as mpatches\n",
    "import numpy as np\n",
    "import scipy as scp\n",
    "#import scipy.stats as stats"
   ]
  },
  {
   "cell_type": "code",
   "execution_count": 36,
   "id": "painful-crisis",
   "metadata": {},
   "outputs": [
    {
     "data": {
      "text/html": [
       "<div>\n",
       "<style scoped>\n",
       "    .dataframe tbody tr th:only-of-type {\n",
       "        vertical-align: middle;\n",
       "    }\n",
       "\n",
       "    .dataframe tbody tr th {\n",
       "        vertical-align: top;\n",
       "    }\n",
       "\n",
       "    .dataframe thead th {\n",
       "        text-align: right;\n",
       "    }\n",
       "</style>\n",
       "<table border=\"1\" class=\"dataframe\">\n",
       "  <thead>\n",
       "    <tr style=\"text-align: right;\">\n",
       "      <th></th>\n",
       "      <th>PMC_ID</th>\n",
       "      <th>PMC_Year</th>\n",
       "      <th>Journal</th>\n",
       "      <th>Article Title</th>\n",
       "      <th>Secondary analysis</th>\n",
       "      <th>Data availability statement (yes/no)</th>\n",
       "      <th>Data availability (yes/no)</th>\n",
       "      <th>If Data availability = yes, where do they share data? (SRA/GEO/other)</th>\n",
       "      <th>If other database, specifiy which one</th>\n",
       "      <th>Code availability statement (Yes/No)</th>\n",
       "      <th>Code availability (Yes/No (reason))</th>\n",
       "      <th>Analytical code availability (Yes/No)</th>\n",
       "      <th>What kind of code do they share?</th>\n",
       "      <th>Where do they share code (supplementary/ GitHub/ other)</th>\n",
       "      <th>If analytical code availability = yes, where do they share code (supplementary/ GitHub/ other)</th>\n",
       "      <th>If Code availability = yes, do they share the code as notebook or R markdown file (.Rmd)? (yes/no)</th>\n",
       "      <th>If yes, notebook/Rmd</th>\n",
       "      <th>If yes, single/ multiple</th>\n",
       "      <th>Summary data (yes/ no/ partial)</th>\n",
       "      <th>Number of citations</th>\n",
       "    </tr>\n",
       "  </thead>\n",
       "  <tbody>\n",
       "    <tr>\n",
       "      <th>0</th>\n",
       "      <td>PMC5048069</td>\n",
       "      <td>2016.0</td>\n",
       "      <td>Bioinformatics</td>\n",
       "      <td>PEP_scaffolder: using (homologous) proteins to...</td>\n",
       "      <td>no</td>\n",
       "      <td>no</td>\n",
       "      <td>no</td>\n",
       "      <td>NaN</td>\n",
       "      <td>NaN</td>\n",
       "      <td>Yes</td>\n",
       "      <td>No (Link Expired)</td>\n",
       "      <td>No</td>\n",
       "      <td>Software</td>\n",
       "      <td>Other(Website)</td>\n",
       "      <td>NaN</td>\n",
       "      <td>Can't tell</td>\n",
       "      <td>Can't tell</td>\n",
       "      <td>Can't tell</td>\n",
       "      <td>Can't tell</td>\n",
       "      <td>11</td>\n",
       "    </tr>\n",
       "    <tr>\n",
       "      <th>1</th>\n",
       "      <td>PMC5254078</td>\n",
       "      <td>2016.0</td>\n",
       "      <td>Bioinformatics</td>\n",
       "      <td>FoldAtlas: a repository for genome-wide RNA st...</td>\n",
       "      <td>no</td>\n",
       "      <td>yes</td>\n",
       "      <td>yes</td>\n",
       "      <td>SRA</td>\n",
       "      <td>NaN</td>\n",
       "      <td>Yes</td>\n",
       "      <td>Yes</td>\n",
       "      <td>Yes</td>\n",
       "      <td>Database</td>\n",
       "      <td>GitHub</td>\n",
       "      <td>GitHub</td>\n",
       "      <td>No</td>\n",
       "      <td>NaN</td>\n",
       "      <td>NaN</td>\n",
       "      <td>No</td>\n",
       "      <td>12</td>\n",
       "    </tr>\n",
       "    <tr>\n",
       "      <th>2</th>\n",
       "      <td>PMC4908329</td>\n",
       "      <td>2016.0</td>\n",
       "      <td>Bioinformatics</td>\n",
       "      <td>A convex optimization approach for identificat...</td>\n",
       "      <td>yes</td>\n",
       "      <td>NaN</td>\n",
       "      <td>NaN</td>\n",
       "      <td>NaN</td>\n",
       "      <td>NaN</td>\n",
       "      <td>Yes</td>\n",
       "      <td>No (Link Expired)</td>\n",
       "      <td>No</td>\n",
       "      <td>Pipeline</td>\n",
       "      <td>Other(Website)</td>\n",
       "      <td>NaN</td>\n",
       "      <td>Can't tell</td>\n",
       "      <td>Can't tell</td>\n",
       "      <td>Can't tell</td>\n",
       "      <td>Can't tell</td>\n",
       "      <td>12</td>\n",
       "    </tr>\n",
       "    <tr>\n",
       "      <th>3</th>\n",
       "      <td>PMC4908319</td>\n",
       "      <td>2016.0</td>\n",
       "      <td>Bioinformatics</td>\n",
       "      <td>Privacy-preserving microbiome analysis using s...</td>\n",
       "      <td>yes</td>\n",
       "      <td>NaN</td>\n",
       "      <td>NaN</td>\n",
       "      <td>NaN</td>\n",
       "      <td>NaN</td>\n",
       "      <td>Yes</td>\n",
       "      <td>No (Link Expired)</td>\n",
       "      <td>No</td>\n",
       "      <td>Software</td>\n",
       "      <td>Other(Website)</td>\n",
       "      <td>NaN</td>\n",
       "      <td>Can't tell</td>\n",
       "      <td>Can't tell</td>\n",
       "      <td>Can't tell</td>\n",
       "      <td>Can't tell</td>\n",
       "      <td>18</td>\n",
       "    </tr>\n",
       "    <tr>\n",
       "      <th>4</th>\n",
       "      <td>PMC4920110</td>\n",
       "      <td>2016.0</td>\n",
       "      <td>Bioinformatics</td>\n",
       "      <td>Phasing for medical sequencing using rare vari...</td>\n",
       "      <td>yes</td>\n",
       "      <td>NaN</td>\n",
       "      <td>NaN</td>\n",
       "      <td>NaN</td>\n",
       "      <td>NaN</td>\n",
       "      <td>Yes</td>\n",
       "      <td>No (Link Expired)</td>\n",
       "      <td>No</td>\n",
       "      <td>Software</td>\n",
       "      <td>Other(Website)</td>\n",
       "      <td>NaN</td>\n",
       "      <td>Can't tell</td>\n",
       "      <td>Can't tell</td>\n",
       "      <td>Can't tell</td>\n",
       "      <td>Can't tell</td>\n",
       "      <td>19</td>\n",
       "    </tr>\n",
       "  </tbody>\n",
       "</table>\n",
       "</div>"
      ],
      "text/plain": [
       "       PMC_ID  PMC_Year         Journal  \\\n",
       "0  PMC5048069    2016.0  Bioinformatics   \n",
       "1  PMC5254078    2016.0  Bioinformatics   \n",
       "2  PMC4908329    2016.0  Bioinformatics   \n",
       "3  PMC4908319    2016.0  Bioinformatics   \n",
       "4  PMC4920110    2016.0  Bioinformatics   \n",
       "\n",
       "                                       Article Title Secondary analysis  \\\n",
       "0  PEP_scaffolder: using (homologous) proteins to...                 no   \n",
       "1  FoldAtlas: a repository for genome-wide RNA st...                 no   \n",
       "2  A convex optimization approach for identificat...                yes   \n",
       "3  Privacy-preserving microbiome analysis using s...                yes   \n",
       "4  Phasing for medical sequencing using rare vari...                yes   \n",
       "\n",
       "  Data availability statement (yes/no) Data availability (yes/no)  \\\n",
       "0                                   no                         no   \n",
       "1                                  yes                        yes   \n",
       "2                                  NaN                        NaN   \n",
       "3                                  NaN                        NaN   \n",
       "4                                  NaN                        NaN   \n",
       "\n",
       "  If Data availability = yes, where do they share data? (SRA/GEO/other)  \\\n",
       "0                                                NaN                      \n",
       "1                                                SRA                      \n",
       "2                                                NaN                      \n",
       "3                                                NaN                      \n",
       "4                                                NaN                      \n",
       "\n",
       "  If other database, specifiy which one Code availability statement (Yes/No)  \\\n",
       "0                                   NaN                                  Yes   \n",
       "1                                   NaN                                  Yes   \n",
       "2                                   NaN                                  Yes   \n",
       "3                                   NaN                                  Yes   \n",
       "4                                   NaN                                  Yes   \n",
       "\n",
       "  Code availability (Yes/No (reason)) Analytical code availability (Yes/No)  \\\n",
       "0                   No (Link Expired)                                    No   \n",
       "1                                 Yes                                   Yes   \n",
       "2                   No (Link Expired)                                    No   \n",
       "3                   No (Link Expired)                                    No   \n",
       "4                   No (Link Expired)                                    No   \n",
       "\n",
       "  What kind of code do they share?  \\\n",
       "0                         Software   \n",
       "1                         Database   \n",
       "2                         Pipeline   \n",
       "3                         Software   \n",
       "4                         Software   \n",
       "\n",
       "  Where do they share code (supplementary/ GitHub/ other)  \\\n",
       "0                                     Other(Website)        \n",
       "1                                             GitHub        \n",
       "2                                     Other(Website)        \n",
       "3                                     Other(Website)        \n",
       "4                                     Other(Website)        \n",
       "\n",
       "  If analytical code availability = yes, where do they share code (supplementary/ GitHub/ other)  \\\n",
       "0                                                NaN                                               \n",
       "1                                             GitHub                                               \n",
       "2                                                NaN                                               \n",
       "3                                                NaN                                               \n",
       "4                                                NaN                                               \n",
       "\n",
       "  If Code availability = yes, do they share the code as notebook or R markdown file (.Rmd)? (yes/no)  \\\n",
       "0                                         Can't tell                                                   \n",
       "1                                                 No                                                   \n",
       "2                                         Can't tell                                                   \n",
       "3                                         Can't tell                                                   \n",
       "4                                         Can't tell                                                   \n",
       "\n",
       "  If yes, notebook/Rmd If yes, single/ multiple  \\\n",
       "0           Can't tell               Can't tell   \n",
       "1                  NaN                      NaN   \n",
       "2           Can't tell               Can't tell   \n",
       "3           Can't tell               Can't tell   \n",
       "4           Can't tell               Can't tell   \n",
       "\n",
       "  Summary data (yes/ no/ partial) Number of citations  \n",
       "0                      Can't tell                  11  \n",
       "1                              No                  12  \n",
       "2                      Can't tell                  12  \n",
       "3                      Can't tell                  18  \n",
       "4                      Can't tell                  19  "
      ]
     },
     "execution_count": 36,
     "metadata": {},
     "output_type": "execute_result"
    }
   ],
   "source": [
    "df= pd.read_excel(r\"C:\\Users\\dhrit\\Desktop\\Data_CDAP_10_11-Main.xlsx\")\n",
    "df.head(5)"
   ]
  },
  {
   "cell_type": "code",
   "execution_count": null,
   "id": "endangered-clear",
   "metadata": {},
   "outputs": [],
   "source": []
  },
  {
   "cell_type": "code",
   "execution_count": 3,
   "id": "velvet-office",
   "metadata": {},
   "outputs": [
    {
     "name": "stdout",
     "output_type": "stream",
     "text": [
      "no     268\n",
      "yes    212\n",
      "Name: Secondary analysis, dtype: int64\n"
     ]
    }
   ],
   "source": [
    "print(df['Secondary analysis'].value_counts())"
   ]
  },
  {
   "cell_type": "code",
   "execution_count": 4,
   "id": "velvet-effectiveness",
   "metadata": {},
   "outputs": [
    {
     "name": "stdout",
     "output_type": "stream",
     "text": [
      "yes    169\n",
      "no      99\n",
      "Name: Data availability statement (yes/no), dtype: int64\n"
     ]
    }
   ],
   "source": [
    "print(df['Data availability statement (yes/no)'].value_counts())"
   ]
  },
  {
   "cell_type": "code",
   "execution_count": 5,
   "id": "satisfactory-treatment",
   "metadata": {},
   "outputs": [
    {
     "name": "stdout",
     "output_type": "stream",
     "text": [
      "no                             159\n",
      "yes                             97\n",
      "No (Available upon request)     12\n",
      "Name: Data availability (yes/no), dtype: int64\n"
     ]
    }
   ],
   "source": [
    "## 268 primary analysis papers\n",
    "\n",
    "print(df['Data availability (yes/no)'].value_counts())"
   ]
  },
  {
   "cell_type": "code",
   "execution_count": 6,
   "id": "experimental-attack",
   "metadata": {},
   "outputs": [
    {
     "data": {
      "image/png": "[encoded data removed]",
      "text/plain": [
       "<Figure size 360x360 with 1 Axes>"
      ]
     },
     "metadata": {},
     "output_type": "display_data"
    }
   ],
   "source": [
    "labels = 'Data available', 'Data unavailable'\n",
    "sizes = [97, 171]\n",
    "explode = (0, 0) \n",
    "colors = ['cornflowerblue', 'lightcoral']\n",
    "textprops = {\"fontsize\":14}\n",
    "\n",
    "# Plot\n",
    "fig1, ax1 = plt.subplots(figsize = (5,5))\n",
    "#plt.title(\"  Data availability\", fontsize=14)\n",
    "ax1.pie(sizes, explode=explode, labels=labels, autopct='%1.1f%%', startangle=300, textprops = textprops, colors=colors)\n",
    "ax1.axis('equal') \n",
    "\n",
    "sns.despine()\n",
    "plt.show()"
   ]
  },
  {
   "cell_type": "code",
   "execution_count": 7,
   "id": "nonprofit-documentary",
   "metadata": {},
   "outputs": [
    {
     "name": "stdout",
     "output_type": "stream",
     "text": [
      "other    42\n",
      "GEO      39\n",
      "SRA      16\n",
      "Name: If Data availability = yes, where do they share data? (SRA/GEO/other), dtype: int64\n"
     ]
    }
   ],
   "source": [
    "print(df['If Data availability = yes, where do they share data? (SRA/GEO/other)'].value_counts())"
   ]
  },
  {
   "cell_type": "code",
   "execution_count": 8,
   "id": "systematic-picture",
   "metadata": {},
   "outputs": [
    {
     "data": {
      "image/png": "[encoded data removed]",
      "text/plain": [
       "<Figure size 432x288 with 1 Axes>"
      ]
     },
     "metadata": {
      "needs_background": "light"
     },
     "output_type": "display_data"
    }
   ],
   "source": [
    "colors=['cornflowerblue']   \n",
    "fig, ax= plt.subplots(figsize=(6,4)) \n",
    "\n",
    "dataavailability = ['Other','GEO', 'SRA']\n",
    "Percentage = [43.29,40.2,16.49]\n",
    "\n",
    "plt.yticks(fontsize=14)\n",
    "plt.xticks(fontsize=14)\n",
    "\n",
    "ax.barh(dataavailability, Percentage, color=colors)   \n",
    "\n",
    "plt.xlabel(\"Percentage\", fontsize=14)\n",
    "plt.ylabel(\"Data repository\", fontsize=14)\n",
    "\n",
    "for p in ax.patches:\n",
    "    width = p.get_width()    # get bar length\n",
    "    ax.text(width + 1,       # set the text at 1 unit right of the bar\n",
    "            p.get_y() + p.get_height() / 2, # get Y coordinate + X coordinate / 2\n",
    "            '{:1.1f}'.format(width)+'%', # set variable to display, 2 decimals\n",
    "            ha = 'left',   # horizontal alignment\n",
    "            va = 'center', fontsize=13)  # vertical alignment\n",
    "    \n",
    "sns.despine()\n",
    "plt.show()"
   ]
  },
  {
   "cell_type": "code",
   "execution_count": 9,
   "id": "duplicate-level",
   "metadata": {},
   "outputs": [
    {
     "name": "stdout",
     "output_type": "stream",
     "text": [
      "Protein Data Bank                       5\n",
      "EGA                                     4\n",
      "ENA                                     4\n",
      "Zenodo                                  2\n",
      "Excel Sheets                            2\n",
      "supplementary file                      2\n",
      "dbGaP                                   2\n",
      "Addgene                                 2\n",
      "NCBI                                    1\n",
      " cBioPortal                             1\n",
      "GSE                                     1\n",
      "Project Mine web browser                1\n",
      "CBI Sequence Read Archive repository    1\n",
      "Biobank                                 1\n",
      "DDBJ/ENA/GenBank                        1\n",
      "PXD                                     1\n",
      "gb file                                 1\n",
      "European Genotype Phenotype Archive     1\n",
      "zip file                                1\n",
      "IGCG                                    1\n",
      "GB-eaSy pipeline                        1\n",
      "Korea National Institute of Health      1\n",
      "GenBank                                 1\n",
      "EGP                                     1\n",
      "ImmuneACCESS                            1\n",
      "precisionFDA                            1\n",
      "Genbank                                 1\n",
      "GitHub                                  1\n",
      "ENCODE                                  1\n",
      "PostgreSQL                              1\n",
      "SRP                                     1\n",
      "Name: If other database, specifiy which one, dtype: int64\n"
     ]
    }
   ],
   "source": [
    "print(df['If other database, specifiy which one'].value_counts())"
   ]
  },
  {
   "cell_type": "markdown",
   "id": "determined-curtis",
   "metadata": {},
   "source": [
    "## Code Availability"
   ]
  },
  {
   "cell_type": "code",
   "execution_count": 10,
   "id": "racial-marking",
   "metadata": {},
   "outputs": [
    {
     "name": "stdout",
     "output_type": "stream",
     "text": [
      "No     275\n",
      "Yes    205\n",
      "Name: Code availability statement (Yes/No), dtype: int64\n"
     ]
    }
   ],
   "source": [
    "print(df['Code availability statement (Yes/No)'].value_counts())\n",
    "## No - 275\n",
    "## Yes - 205"
   ]
  },
  {
   "cell_type": "code",
   "execution_count": 11,
   "id": "postal-serbia",
   "metadata": {},
   "outputs": [
    {
     "name": "stdout",
     "output_type": "stream",
     "text": [
      "No                             224\n",
      "Yes                            222\n",
      "No (Available upon request)      9\n",
      "No (available upon request)      8\n",
      "No (Link Expired)                7\n",
      "No (Link expired)                4\n",
      "No                               3\n",
      "No (No access on BitBucket)      1\n",
      "No (Cannot find the code)        1\n",
      "No (link does Not work)          1\n",
      "Name: Code availability (Yes/No (reason)), dtype: int64\n"
     ]
    }
   ],
   "source": [
    "## Code availability irrespective of type of code\n",
    "print(df['Code availability (Yes/No (reason))'].value_counts())\n",
    "## Yes - 222\n",
    "## No - 258"
   ]
  },
  {
   "cell_type": "code",
   "execution_count": 12,
   "id": "sensitive-observation",
   "metadata": {
    "scrolled": true
   },
   "outputs": [
    {
     "name": "stdout",
     "output_type": "stream",
     "text": [
      "No     437\n",
      "Yes     43\n",
      "Name: Analytical code availability (Yes/No), dtype: int64\n"
     ]
    }
   ],
   "source": [
    "## Analytical Code availability out of 480\n",
    "\n",
    "print(df['Analytical code availability (Yes/No)'].value_counts())\n",
    "\n",
    "## Yes - 43\n",
    "## No - 437"
   ]
  },
  {
   "cell_type": "code",
   "execution_count": 13,
   "id": "powerful-firmware",
   "metadata": {},
   "outputs": [
    {
     "data": {
      "image/png": "[encoded data removed]",
      "text/plain": [
       "<Figure size 360x360 with 1 Axes>"
      ]
     },
     "metadata": {},
     "output_type": "display_data"
    }
   ],
   "source": [
    "labels = 'Code available', 'Code unavailable'\n",
    "sizes = [43, 437]\n",
    "explode = (0.05, 0) \n",
    "colors = ['gold', 'tomato']\n",
    "textprops = {\"fontsize\":14}\n",
    "\n",
    "# Plot\n",
    "#plt.rcParams['font.size']=14\n",
    "fig1, ax1 = plt.subplots(figsize = (5,5))\n",
    "#plt.title(\"Code availability\", fontsize=14)\n",
    "ax1.pie(sizes, explode=explode, labels=labels, autopct='%1.2f%%', colors=colors, startangle=360, textprops = textprops)\n",
    "ax1.axis('equal')\n",
    "\n",
    "sns.despine()\n",
    "plt.savefig(r'C:\\Users\\dhrit\\code1.jpg', bbox_inches='tight', dpi=600)\n",
    "plt.show()"
   ]
  },
  {
   "cell_type": "code",
   "execution_count": 14,
   "id": "judicial-youth",
   "metadata": {},
   "outputs": [
    {
     "name": "stdout",
     "output_type": "stream",
     "text": [
      "Pipeline                                      44\n",
      "Python Package                                39\n",
      "R Package                                     32\n",
      "Analytical                                    13\n",
      "Tool                                          11\n",
      "Package                                       10\n",
      "no                                             9\n",
      "Software                                       9\n",
      "pipeline                                       7\n",
      "Jupyter Notebook                               7\n",
      "uncertain                                      6\n",
      "software                                       5\n",
      "tool                                           4\n",
      "R package                                      3\n",
      "Matlab                                         2\n",
      "Python + R scripts                             2\n",
      "Matlab scripts                                 2\n",
      "C++                                            2\n",
      "Python + C++                                   2\n",
      "Shell Script                                   1\n",
      "Protocol                                       1\n",
      "Jupyter Notebook + Python                      1\n",
      "R Scripts                                      1\n",
      "algorithm                                      1\n",
      "Database                                       1\n",
      "Python / R                                     1\n",
      "R + Shell script                               1\n",
      "R script                                       1\n",
      "Pipeline/software                              1\n",
      "Pakage                                         1\n",
      "algorithm/tool                                 1\n",
      "Python Package and R Package                   1\n",
      "Perl Script                                    1\n",
      "tool / algorithm                               1\n",
      "C++ algorithm                                  1\n",
      "Python Package ?                               1\n",
      "C#/C++                                         1\n",
      "Java software                                  1\n",
      "Matlab Scripts                                 1\n",
      "R + C++                                        1\n",
      "Java tool                                      1\n",
      "html scripts                                   1\n",
      "Python Package + Visualization Application     1\n",
      "Jupyter notebook + Python                      1\n",
      "Julia Package                                  1\n",
      "Machine learning tool                          1\n",
      "Name: What kind of code do they share?, dtype: int64\n"
     ]
    }
   ],
   "source": [
    "print(df['What kind of code do they share?'].value_counts())"
   ]
  },
  {
   "cell_type": "code",
   "execution_count": 15,
   "id": "seven-payroll",
   "metadata": {},
   "outputs": [
    {
     "name": "stdout",
     "output_type": "stream",
     "text": [
      "GitHub                                      167\n",
      "Other(Website)                                9\n",
      "no                                            9\n",
      "Zenodo                                        8\n",
      "Other (Website)                               8\n",
      "Zenodo/GitHub                                 3\n",
      "GitHub + Zenodo                               3\n",
      "Supplementary                                 3\n",
      "CRAN                                          2\n",
      "Other (Bitbucket)                             2\n",
      "BitBucket                                     2\n",
      "gitlab                                        2\n",
      "Other(Sourceforge)                            2\n",
      "downloadable file                             2\n",
      "Others (Website)                              2\n",
      "Others(Supplementary)                         1\n",
      "girthub                                       1\n",
      "gitub                                         1\n",
      "downloadable files                            1\n",
      "Other (Sourceforge)                           1\n",
      "Center for Integrative Bioinformatics VU      1\n",
      "GitHub, Supplementary                         1\n",
      "Other (BitBucket)                             1\n",
      "10xGenomics                                   1\n",
      "Gitlab                                        1\n",
      "Other(Website), GitHub                        1\n",
      "Name: Where do they share code (supplementary/ GitHub/ other), dtype: int64\n"
     ]
    }
   ],
   "source": [
    "print(df['Where do they share code (supplementary/ GitHub/ other)'].value_counts())"
   ]
  },
  {
   "cell_type": "code",
   "execution_count": 16,
   "id": "therapeutic-offense",
   "metadata": {},
   "outputs": [
    {
     "name": "stdout",
     "output_type": "stream",
     "text": [
      "GitHub                      33\n",
      "Other                        3\n",
      "Supplementary                2\n",
      "Zenodo                       2\n",
      "Other (10x Genomics)         1\n",
      "GitHub and Supplementary     1\n",
      "Other (Website)              1\n",
      "Name: If analytical code availability = yes, where do they share code (supplementary/ GitHub/ other), dtype: int64\n"
     ]
    }
   ],
   "source": [
    "## Analytical Code \n",
    "print(df['If analytical code availability = yes, where do they share code (supplementary/ GitHub/ other)'].value_counts())"
   ]
  },
  {
   "cell_type": "code",
   "execution_count": 17,
   "id": "regulated-filename",
   "metadata": {},
   "outputs": [
    {
     "data": {
      "image/png": "[encoded data removed]",
      "text/plain": [
       "<Figure size 432x288 with 1 Axes>"
      ]
     },
     "metadata": {
      "needs_background": "light"
     },
     "output_type": "display_data"
    }
   ],
   "source": [
    "fig3, ax = plt.subplots(edgecolor ='none', figsize=(6,4))\n",
    "#colors= ['lightsalmon', 'lightgreen', 'lightblue', 'yellow', 'pink']\n",
    "colors=[\"gold\"]\n",
    "textprops = {\"fontsize\":14}\n",
    "\n",
    "#codeavailability = ['GitHub', 'Supplementary Section', 'Supplementary and GitHub', 'Zenodo', 'WebPage']\n",
    "#Supp&GitHub + GitHub = 1 + 33 = 34\n",
    "codeavailability = ['GitHub',  'WebPage', 'Supplementary\\n Materials', 'Zenodo']\n",
    "count = [34,2,2,5]\n",
    "Percentage = [79.06, 11.62, 4.65,4.65]\n",
    "\n",
    "ax.barh(codeavailability, Percentage, color=colors) \n",
    "#ax.axis(\"off\")\n",
    "##to get horizontal barplot with percentage\n",
    "for p in ax.patches:\n",
    "    width = p.get_width()    # get bar length\n",
    "    ax.text(width + 1,       # set the text at 1 unit right of the bar\n",
    "            p.get_y() + p.get_height() / 2, # get Y coordinate + X coordinate / 2\n",
    "            '{:1.1f}'.format(width)+'%', # set variable to display, 2 decimals\n",
    "            ha = 'left',   # horizontal alignment\n",
    "            va = 'center', fontsize=13)  # vertical alignment\n",
    "\n",
    "plt.yticks(fontsize=14)\n",
    "plt.xticks(fontsize=14)\n",
    "\n",
    "plt.xlabel(\"Percentage\", fontsize=14)\n",
    "plt.ylabel(\"Code repository\", fontsize=14)\n",
    "\n",
    "sns.despine()\n",
    "plt.savefig(r'C:\\Users\\dhrit\\code1.jpg', bbox_inches='tight', dpi=600)\n",
    "plt.show()"
   ]
  },
  {
   "cell_type": "markdown",
   "id": "extraordinary-karen",
   "metadata": {},
   "source": [
    "## Number of citations and code availability"
   ]
  },
  {
   "cell_type": "code",
   "execution_count": 39,
   "id": "artistic-miami",
   "metadata": {},
   "outputs": [
    {
     "name": "stdout",
     "output_type": "stream",
     "text": [
      "MannwhitneyuResult(statistic=8229.5, pvalue=0.9105756524476992)\n",
      "MannwhitneyuResult(statistic=8229.5, pvalue=0.08961074488489634)\n",
      "MannwhitneyuResult(statistic=8229.5, pvalue=0.17922148976979269)\n"
     ]
    }
   ],
   "source": [
    "#x=df['Number of citations']\n",
    "#x.dropna()\n",
    "\n",
    "df['Number of citations'] = df['Number of citations'].apply(lambda x:0 if type(x)!=int else x)\n",
    "available = df.loc[df[\"Analytical code availability (Yes/No)\"]==\"Yes\",\"Number of citations\"]\n",
    "#no =(df.loc[df[\"Code availability (Yes/No)\"]==\"No\",\"Number of citations\"]).dropna()\n",
    "no =df.loc[df[\"Analytical code availability (Yes/No)\"]==\"No\",\"Number of citations\"]\n",
    "\n",
    "mwu_results = stats.mannwhitneyu(available, no, alternative=\"greater\")\n",
    "mwu2_results = stats.mannwhitneyu(available, no, alternative=\"less\")\n",
    "mwu3_results = stats.mannwhitneyu(available, no, alternative=\"two-sided\")\n",
    "\n",
    "print(mwu_results)\n",
    "print(mwu2_results)\n",
    "print(mwu3_results)"
   ]
  },
  {
   "cell_type": "code",
   "execution_count": 40,
   "id": "collective-projection",
   "metadata": {},
   "outputs": [],
   "source": [
    "df['Number of citations'] = df['Number of citations'].apply(lambda x:0 if type(x)!=int else x)"
   ]
  },
  {
   "cell_type": "code",
   "execution_count": 20,
   "id": "bacterial-label",
   "metadata": {},
   "outputs": [
    {
     "data": {
      "text/plain": [
       "set()"
      ]
     },
     "execution_count": 20,
     "metadata": {},
     "output_type": "execute_result"
    }
   ],
   "source": [
    "set([i for i in no.values if type(i)==str])"
   ]
  },
  {
   "cell_type": "code",
   "execution_count": null,
   "id": "criminal-delicious",
   "metadata": {},
   "outputs": [],
   "source": []
  },
  {
   "cell_type": "code",
   "execution_count": 41,
   "id": "informational-eleven",
   "metadata": {},
   "outputs": [
    {
     "data": {
      "text/plain": [
       "(array([0, 1]), [Text(0, 0, 'Yes'), Text(1, 0, 'No')])"
      ]
     },
     "execution_count": 41,
     "metadata": {},
     "output_type": "execute_result"
    },
    {
     "data": {
      "image/png": "[encoded data removed]",
      "text/plain": [
       "<Figure size 360x360 with 1 Axes>"
      ]
     },
     "metadata": {},
     "output_type": "display_data"
    }
   ],
   "source": [
    "plt.figure(figsize=(5,5))\n",
    "sns.set_style('white')\n",
    "sns.set_context('talk')\n",
    "sns.stripplot(data=df, x=\"Analytical code availability (Yes/No)\", y=\"Number of citations\",\n",
    "             order=[\"Yes\", \"No\"])\n",
    "sns.barplot(x=\"Analytical code availability (Yes/No)\", y=\"Number of citations\", data=df, \n",
    "            estimator=np.mean, capsize=.2, facecolor=\"white\", edgecolor=\"black\",\n",
    "           order=[\"Yes\", \"No\"])\n",
    "\n",
    "\n",
    "plt.xlabel(\"Code Availability\", fontsize=14)\n",
    "plt.yscale('log')\n",
    "plt.ylim(ymax=1400)\n",
    "plt.ylabel(\"Number of Citations\", fontsize=14)\n",
    "plt.yticks(fontsize=14)\n",
    "plt.xticks(fontsize=14)\n",
    "\n",
    "#pvalue = mpatches.Patch(color =\"white\", label='p=0.08')\n",
    "\n",
    "#plt.legend(handles=[pvalue], fontsize=12)\n"
   ]
  },
  {
   "cell_type": "code",
   "execution_count": 44,
   "id": "buried-operations",
   "metadata": {},
   "outputs": [
    {
     "name": "stdout",
     "output_type": "stream",
     "text": [
      "MannwhitneyuResult(statistic=9562.0, pvalue=0.0006414235870560501)\n",
      "MannwhitneyuResult(statistic=9562.0, pvalue=0.9993624594730077)\n",
      "MannwhitneyuResult(statistic=9562.0, pvalue=0.0012828471741121001)\n"
     ]
    }
   ],
   "source": [
    "#x=df['Number of citations']\n",
    "#x.dropna()\n",
    "\n",
    "df['Number of citations'] = df['Number of citations'].apply(lambda x:0 if type(x)!=int else x)\n",
    "available = df.loc[df[\"Data availability (yes/no)\"]==\"yes\",\"Number of citations\"]\n",
    "#no =(df.loc[df[\"Code availability (Yes/No)\"]==\"No\",\"Number of citations\"]).dropna()\n",
    "no =df.loc[df[\"Data availability (yes/no)\"]==\"no\",\"Number of citations\"]\n",
    "\n",
    "mwu_results = stats.mannwhitneyu(available, no, alternative=\"greater\")\n",
    "mwu2_results = stats.mannwhitneyu(available, no, alternative=\"less\")\n",
    "mwu3_results = stats.mannwhitneyu(available, no, alternative=\"two-sided\")\n",
    "\n",
    "print(mwu_results)\n",
    "print(mwu2_results)\n",
    "print(mwu3_results)"
   ]
  },
  {
   "cell_type": "code",
   "execution_count": 48,
   "id": "orange-manchester",
   "metadata": {},
   "outputs": [
    {
     "data": {
      "text/plain": [
       "(array([0, 1]), [Text(0, 0, 'yes'), Text(1, 0, 'no')])"
      ]
     },
     "execution_count": 48,
     "metadata": {},
     "output_type": "execute_result"
    },
    {
     "data": {
      "image/png": "[encoded data removed]",
      "text/plain": [
       "<Figure size 360x360 with 1 Axes>"
      ]
     },
     "metadata": {},
     "output_type": "display_data"
    }
   ],
   "source": [
    "plt.figure(figsize=(5,5))\n",
    "sns.set_style('white')\n",
    "sns.set_context('talk')\n",
    "sns.stripplot(data=df, x=\"Data availability (yes/no)\", y=\"Number of citations\",\n",
    "             order=[\"yes\", \"no\"])\n",
    "sns.barplot(x=\"Data availability (yes/no)\", y=\"Number of citations\", data=df, \n",
    "            estimator=np.mean, capsize=.2, facecolor=\"white\", edgecolor=\"black\",\n",
    "           order=[\"yes\", \"no\"])\n",
    "\n",
    "\n",
    "plt.xlabel(\"Data Availability\", fontsize=14)\n",
    "plt.yscale('log')\n",
    "plt.ylim(ymax=1300)\n",
    "plt.ylabel(\"Number of Citations\", fontsize=14)\n",
    "plt.yticks(fontsize=14)\n",
    "plt.xticks(fontsize=14)\n",
    "\n",
    "#pvalue = mpatches.Patch(color =\"white\", label='p=0.08')\n",
    "\n",
    "#plt.legend(handles=[pvalue], fontsize=12)"
   ]
  },
  {
   "cell_type": "code",
   "execution_count": 22,
   "id": "outer-perfume",
   "metadata": {},
   "outputs": [
    {
     "name": "stdout",
     "output_type": "stream",
     "text": [
      "   Year  PercentageIncrease\n",
      "0  2016                6.71\n",
      "1  2017               16.41\n",
      "2  2018               23.88\n",
      "3  2019               26.11\n",
      "4  2020               30.97\n",
      "5  2021               36.19\n"
     ]
    },
    {
     "data": {
      "image/png": "[encoded data removed]",
      "text/plain": [
       "<Figure size 504x360 with 1 Axes>"
      ]
     },
     "metadata": {},
     "output_type": "display_data"
    }
   ],
   "source": [
    "## Data availability trend\n",
    "data = {'Year':['2016', '2017', '2018', '2019', '2020', '2021'],  \n",
    "        'PercentageIncrease':[6.71, 16.41, 23.88, 26.11, 30.97, 36.19]}\n",
    "\n",
    "df4 = pd.DataFrame(data, columns=['Year','PercentageIncrease'])\n",
    "\n",
    "print(df4)\n",
    "\n",
    "fig, ax= plt.subplots(figsize = (7,5)) \n",
    "#colors = ['#009FFA']\n",
    "colors=['cornflowerblue']\n",
    "sns.set_style('white')\n",
    "sns.set_context('talk')\n",
    "\n",
    "overall = sns.barplot(data = df4, x = 'Year', y = 'PercentageIncrease', ci=None, palette=colors)\n",
    "\n",
    "total = 100\n",
    "for i in ax.patches:\n",
    "    # get_x pulls left or right; get_height pushes up or down\n",
    "    ax.text(i.get_x()+0.25, i.get_height()+.6, \\\n",
    "            str(round((i.get_height()/total)*100, 1))+'%', fontsize=13,\n",
    "                color='black')\n",
    "\n",
    "plt.yticks(fontsize=14)\n",
    "plt.xticks(fontsize=14)\n",
    "plt.xlabel(\"\")\n",
    "plt.ylabel(\"Percentage of papers sharing data\", fontsize=14)\n",
    "#plt.title(\"Code availability across 2016-2020\", fontsize=14)\n",
    "#plt.tight_layout()\n",
    "sns.despine()\n",
    "#plt.savefig(r'C:\\Users\\dhrit\\code3.jpg', bbox_inches='tight', dpi=600)\n",
    "plt.show()"
   ]
  },
  {
   "cell_type": "code",
   "execution_count": 23,
   "id": "hydraulic-picnic",
   "metadata": {},
   "outputs": [
    {
     "name": "stdout",
     "output_type": "stream",
     "text": [
      "   Year  PercentageIncrease\n",
      "0  2016                0.83\n",
      "1  2017                2.08\n",
      "2  2018                3.12\n",
      "3  2019                3.54\n",
      "4  2020                5.41\n",
      "5  2021                8.95\n"
     ]
    },
    {
     "data": {
      "image/png": "[encoded data removed]",
      "text/plain": [
       "<Figure size 504x360 with 1 Axes>"
      ]
     },
     "metadata": {},
     "output_type": "display_data"
    }
   ],
   "source": [
    "## Code availability trend\n",
    "data = {'Year':['2016', '2017', '2018', '2019', '2020', '2021'],  \n",
    "        'PercentageIncrease':[0.83, 2.08, 3.12, 3.54, 5.41, 8.95]}\n",
    "\n",
    "df4 = pd.DataFrame(data, columns=['Year','PercentageIncrease'])\n",
    "\n",
    "print(df4)\n",
    "\n",
    "fig, ax= plt.subplots(figsize = (7,5)) \n",
    "#colors = ['#009FFA']\n",
    "colors=['gold']\n",
    "sns.set_style('white')\n",
    "sns.set_context('talk')\n",
    "\n",
    "overall = sns.barplot(data = df4, x = 'Year', y = 'PercentageIncrease', ci=None, palette=colors)\n",
    "\n",
    "total = 100\n",
    "for i in ax.patches:\n",
    "    # get_x pulls left or right; get_height pushes up or down\n",
    "    ax.text(i.get_x()+0.25, i.get_height()+.6, \\\n",
    "            str(round((i.get_height()/total)*100, 1))+'%', fontsize=13,\n",
    "                color='black')\n",
    "\n",
    "plt.yticks(fontsize=14)\n",
    "plt.xticks(fontsize=14)\n",
    "plt.xlabel(\"\")\n",
    "plt.ylabel(\"Percentage of papers sharing code\", fontsize=14)\n",
    "#plt.title(\"Code availability across 2016-2020\", fontsize=14)\n",
    "#plt.tight_layout()\n",
    "sns.despine()\n",
    "#plt.savefig(r'C:\\Users\\dhrit\\code3.jpg', bbox_inches='tight', dpi=600)\n",
    "plt.show()\n"
   ]
  },
  {
   "cell_type": "markdown",
   "id": "affected-pantyhose",
   "metadata": {},
   "source": [
    "### Journal policies and code and data availability"
   ]
  },
  {
   "cell_type": "code",
   "execution_count": 24,
   "id": "functional-inquiry",
   "metadata": {},
   "outputs": [
    {
     "name": "stdout",
     "output_type": "stream",
     "text": [
      "              Journal  Total  Share Code  Share Data\n",
      "0      Bioinformatics     60           7           3\n",
      "1  BMC_Bioinformatics     60           1           2\n",
      "2         Genome_Biol     60           5          17\n",
      "3          Genome_Med     60           4          12\n",
      "4      Nat_Biotechnol     60           5          17\n",
      "5           Nat_Genet     60           7          18\n",
      "6         Nat_Methods     60          13          15\n",
      "7   Nucleic_Acids_Res     60           1          13\n"
     ]
    }
   ],
   "source": [
    "data2 = {'Journal':['Bioinformatics', 'BMC_Bioinformatics', 'Genome_Biol','Genome_Med','Nat_Biotechnol', 'Nat_Genet',\n",
    "                    'Nat_Methods','Nucleic_Acids_Res'], \n",
    "        'Total':[60,60,60,60,60,60,60,60], \n",
    "        'Share Code':[7, 1, 5, 4, 5, 7 ,13, 1],\n",
    "        'Share Data':[3,2,17,12,17,18,15,13]}\n",
    "df5 = pd.DataFrame(data2, columns=['Journal','Total', 'Share Code', 'Share Data'])\n",
    "print(df5)"
   ]
  },
  {
   "cell_type": "code",
   "execution_count": 25,
   "id": "boolean-yesterday",
   "metadata": {},
   "outputs": [
    {
     "data": {
      "text/html": [
       "<div>\n",
       "<style scoped>\n",
       "    .dataframe tbody tr th:only-of-type {\n",
       "        vertical-align: middle;\n",
       "    }\n",
       "\n",
       "    .dataframe tbody tr th {\n",
       "        vertical-align: top;\n",
       "    }\n",
       "\n",
       "    .dataframe thead th {\n",
       "        text-align: right;\n",
       "    }\n",
       "</style>\n",
       "<table border=\"1\" class=\"dataframe\">\n",
       "  <thead>\n",
       "    <tr style=\"text-align: right;\">\n",
       "      <th></th>\n",
       "      <th>Journal</th>\n",
       "      <th>Journal Name</th>\n",
       "      <th>Total</th>\n",
       "      <th>Share Code</th>\n",
       "      <th>Share Data</th>\n",
       "      <th>Code Sharing Policy</th>\n",
       "      <th>Data Sharing Policy</th>\n",
       "      <th>Code Sharing Percentage</th>\n",
       "      <th>Data Sharing Percentage</th>\n",
       "    </tr>\n",
       "  </thead>\n",
       "  <tbody>\n",
       "    <tr>\n",
       "      <th>0</th>\n",
       "      <td>Journal 1</td>\n",
       "      <td>Bioinformatics</td>\n",
       "      <td>60</td>\n",
       "      <td>7</td>\n",
       "      <td>3</td>\n",
       "      <td>Mandatory</td>\n",
       "      <td>Mandatory</td>\n",
       "      <td>11.66</td>\n",
       "      <td>5.00</td>\n",
       "    </tr>\n",
       "    <tr>\n",
       "      <th>1</th>\n",
       "      <td>Journal 2</td>\n",
       "      <td>BMC_Bioinformatics</td>\n",
       "      <td>60</td>\n",
       "      <td>1</td>\n",
       "      <td>2</td>\n",
       "      <td>Encouraged</td>\n",
       "      <td>Encouraged</td>\n",
       "      <td>1.66</td>\n",
       "      <td>3.33</td>\n",
       "    </tr>\n",
       "    <tr>\n",
       "      <th>2</th>\n",
       "      <td>Journal 3</td>\n",
       "      <td>Genome_Biol</td>\n",
       "      <td>60</td>\n",
       "      <td>5</td>\n",
       "      <td>17</td>\n",
       "      <td>Mandatory</td>\n",
       "      <td>Mandatory</td>\n",
       "      <td>8.33</td>\n",
       "      <td>28.33</td>\n",
       "    </tr>\n",
       "    <tr>\n",
       "      <th>3</th>\n",
       "      <td>Journal 4</td>\n",
       "      <td>Genome_Med</td>\n",
       "      <td>60</td>\n",
       "      <td>4</td>\n",
       "      <td>12</td>\n",
       "      <td>Encouraged</td>\n",
       "      <td>Encouraged</td>\n",
       "      <td>6.66</td>\n",
       "      <td>20.00</td>\n",
       "    </tr>\n",
       "    <tr>\n",
       "      <th>4</th>\n",
       "      <td>Journal 5</td>\n",
       "      <td>Nat_Biotechnol</td>\n",
       "      <td>60</td>\n",
       "      <td>5</td>\n",
       "      <td>17</td>\n",
       "      <td>Mandatory</td>\n",
       "      <td>Mandatory</td>\n",
       "      <td>8.33</td>\n",
       "      <td>28.33</td>\n",
       "    </tr>\n",
       "    <tr>\n",
       "      <th>5</th>\n",
       "      <td>Journal 6</td>\n",
       "      <td>Nat_Genet</td>\n",
       "      <td>60</td>\n",
       "      <td>7</td>\n",
       "      <td>18</td>\n",
       "      <td>Mandatory</td>\n",
       "      <td>Mandatory</td>\n",
       "      <td>11.66</td>\n",
       "      <td>30.00</td>\n",
       "    </tr>\n",
       "    <tr>\n",
       "      <th>6</th>\n",
       "      <td>Journal 7</td>\n",
       "      <td>Nat_Methods</td>\n",
       "      <td>60</td>\n",
       "      <td>13</td>\n",
       "      <td>15</td>\n",
       "      <td>Mandatory</td>\n",
       "      <td>Mandatory</td>\n",
       "      <td>21.66</td>\n",
       "      <td>25.00</td>\n",
       "    </tr>\n",
       "    <tr>\n",
       "      <th>7</th>\n",
       "      <td>Journal 8</td>\n",
       "      <td>Nucleic_Acids_Res</td>\n",
       "      <td>60</td>\n",
       "      <td>1</td>\n",
       "      <td>13</td>\n",
       "      <td>Encouraged</td>\n",
       "      <td>Mandatory</td>\n",
       "      <td>1.66</td>\n",
       "      <td>21.66</td>\n",
       "    </tr>\n",
       "  </tbody>\n",
       "</table>\n",
       "</div>"
      ],
      "text/plain": [
       "     Journal        Journal Name  Total  Share Code  Share Data  \\\n",
       "0  Journal 1      Bioinformatics     60           7           3   \n",
       "1  Journal 2  BMC_Bioinformatics     60           1           2   \n",
       "2  Journal 3         Genome_Biol     60           5          17   \n",
       "3  Journal 4          Genome_Med     60           4          12   \n",
       "4  Journal 5      Nat_Biotechnol     60           5          17   \n",
       "5  Journal 6           Nat_Genet     60           7          18   \n",
       "6  Journal 7         Nat_Methods     60          13          15   \n",
       "7  Journal 8   Nucleic_Acids_Res     60           1          13   \n",
       "\n",
       "  Code Sharing Policy Data Sharing Policy  Code Sharing Percentage  \\\n",
       "0           Mandatory           Mandatory                    11.66   \n",
       "1          Encouraged          Encouraged                     1.66   \n",
       "2           Mandatory           Mandatory                     8.33   \n",
       "3          Encouraged          Encouraged                     6.66   \n",
       "4           Mandatory           Mandatory                     8.33   \n",
       "5           Mandatory           Mandatory                    11.66   \n",
       "6           Mandatory           Mandatory                    21.66   \n",
       "7          Encouraged           Mandatory                     1.66   \n",
       "\n",
       "   Data Sharing Percentage  \n",
       "0                     5.00  \n",
       "1                     3.33  \n",
       "2                    28.33  \n",
       "3                    20.00  \n",
       "4                    28.33  \n",
       "5                    30.00  \n",
       "6                    25.00  \n",
       "7                    21.66  "
      ]
     },
     "execution_count": 25,
     "metadata": {},
     "output_type": "execute_result"
    }
   ],
   "source": [
    "data9 = {'Journal':['Journal 1', 'Journal 2', 'Journal 3', 'Journal 4', 'Journal 5', 'Journal 6',\n",
    "                    'Journal 7', 'Journal 8'],\n",
    "        'Journal Name': ['Bioinformatics', 'BMC_Bioinformatics', 'Genome_Biol', 'Genome_Med',\n",
    "                         'Nat_Biotechnol', 'Nat_Genet', 'Nat_Methods','Nucleic_Acids_Res'],\n",
    "        'Total':[60,60,60,60,60,60,60,60], \n",
    "        'Share Code':[7, 1, 5, 4, 5, 7 ,13, 1],\n",
    "        'Share Data':[3,2,17,12,17,18,15,13],\n",
    "        'Code Sharing Policy':['Mandatory', 'Encouraged', 'Mandatory', 'Encouraged', 'Mandatory','Mandatory','Mandatory','Encouraged'],\n",
    "        'Data Sharing Policy':['Mandatory', 'Encouraged', 'Mandatory', 'Encouraged', 'Mandatory','Mandatory','Mandatory','Mandatory'], \n",
    "        'Code Sharing Percentage': [11.66, 1.66,8.33,6.66,8.33,11.66,21.66,1.66],\n",
    "        'Data Sharing Percentage': [5,3.33,28.33,20,28.33,30,25,21.66]}\n",
    "df9 = pd.DataFrame(data9, columns=['Journal','Journal Name','Total', 'Share Code', 'Share Data',\n",
    "                                   'Code Sharing Policy', 'Data Sharing Policy', 'Code Sharing Percentage', 'Data Sharing Percentage'])\n",
    "df9"
   ]
  },
  {
   "cell_type": "code",
   "execution_count": 26,
   "id": "overhead-incidence",
   "metadata": {},
   "outputs": [
    {
     "data": {
      "image/png": "[encoded data removed]",
      "text/plain": [
       "<Figure size 504x360 with 1 Axes>"
      ]
     },
     "metadata": {},
     "output_type": "display_data"
    }
   ],
   "source": [
    "fig, ax= plt.subplots(figsize = (7,5)) \n",
    "\n",
    "#darkcyan=Mandatory\n",
    "#paleturquoise=Encouraged\n",
    "colors = ['darkcyan', 'paleturquoise', 'darkcyan','paleturquoise','darkcyan', 'darkcyan','darkcyan','darkcyan']\n",
    "\n",
    "sns.set_style('white')\n",
    "sns.set_context('talk')\n",
    "\n",
    "overall = sns.barplot(data = df9, x = 'Data Sharing Percentage', y =  'Journal', ci=None, palette=colors)\n",
    "\n",
    "plt.yticks(fontsize=14)\n",
    "plt.xticks(fontsize=14)\n",
    "plt.ylabel('')\n",
    "plt.xlabel('Percentage',fontsize=14)\n",
    "\n",
    "##to get horizontal barplot with percentage\n",
    "for p in ax.patches:\n",
    "    width = p.get_width()    # get bar length\n",
    "    ax.text(width + 1,       # set the text at 1 unit right of the bar\n",
    "            p.get_y() + p.get_height() / 2, # get Y coordinate + X coordinate / 2\n",
    "            '{:1.1f}'.format(width)+'%', # set variable to display, 2 decimals\n",
    "            ha = 'left',   # horizontal alignment\n",
    "            va = 'center', fontsize=13)  # vertical alignment\n",
    "\n",
    "Encouraged = mpatches.Patch(color='paleturquoise', label='Encouraged')\n",
    "Mandatory= mpatches.Patch(color='darkcyan', label='Mandatory')\n",
    "\n",
    "plt.legend(handles=[Encouraged,Mandatory], fontsize=12)\n",
    "plt.title('Data sharing policies', fontsize=14)\n",
    "\n",
    "sns.despine()"
   ]
  },
  {
   "cell_type": "code",
   "execution_count": 27,
   "id": "current-hartford",
   "metadata": {},
   "outputs": [
    {
     "data": {
      "image/png": "[encoded data removed]",
      "text/plain": [
       "<Figure size 504x360 with 1 Axes>"
      ]
     },
     "metadata": {},
     "output_type": "display_data"
    }
   ],
   "source": [
    "fig, ax= plt.subplots(figsize = (7,5)) \n",
    "#darkcyan=Mandatory\n",
    "#c=Encouraged\n",
    "#paleturquoise=No Policy\n",
    "colors = ['darkcyan', 'paleturquoise', 'darkcyan','paleturquoise','darkcyan', 'darkcyan','darkcyan','paleturquoise']\n",
    "\n",
    "sns.set_style('white')\n",
    "sns.set_context('talk')\n",
    "\n",
    "overall = sns.barplot(data = df9, x = 'Code Sharing Percentage', y =  'Journal', ci=None, palette=colors)\n",
    "\n",
    "plt.yticks(fontsize=14)\n",
    "plt.xticks(fontsize=14)\n",
    "plt.ylabel('')\n",
    "plt.xlabel('Percentage',fontsize=14)\n",
    "\n",
    "##to get horizontal barplot with percentage\n",
    "for p in ax.patches:\n",
    "    width = p.get_width()    # get bar length\n",
    "    ax.text(width + 1,       # set the text at 1 unit right of the bar\n",
    "            p.get_y() + p.get_height() / 2, # get Y coordinate + X coordinate / 2\n",
    "            '{:1.1f}'.format(width)+'%', # set variable to display, 2 decimals\n",
    "            ha = 'left',   # horizontal alignment\n",
    "            va = 'center', fontsize=13)  # vertical alignment\n",
    "\n",
    "Encouraged = mpatches.Patch(color='paleturquoise', label='Encouraged')\n",
    "Mandatory= mpatches.Patch(color='darkcyan', label='Mandatory')\n",
    "\n",
    "plt.legend(handles=[Encouraged,Mandatory], fontsize=12)\n",
    "plt.title('Code sharing policies', fontsize=14)\n",
    "\n",
    "sns.despine()"
   ]
  },
  {
   "cell_type": "markdown",
   "id": "referenced-robin",
   "metadata": {},
   "source": [
    "### Code and data availability statements"
   ]
  },
  {
   "cell_type": "markdown",
   "id": "fleet-delta",
   "metadata": {},
   "source": [
    "Data and statement available - 88 (88/268*100 = 32.83%);\n",
    "Statement available no data- 81 (81/268*100 = 30.22%);\n",
    "No statement no data - 90 (90/268*100 = 33.58%);\n",
    "No statement but data avail- 9 (3.35%);\n",
    "\t\n",
    "Code and statement available - 35 (35/480*100 = 7.29%);\n",
    "Statement available no code - 170 (170/480*100 = 35.41%);\n",
    "No statement no code - 267 (55.62%);\n",
    "No statement but code avail - 8 (1.66%);"
   ]
  },
  {
   "cell_type": "code",
   "execution_count": 28,
   "id": "flying-gasoline",
   "metadata": {},
   "outputs": [
    {
     "name": "stdout",
     "output_type": "stream",
     "text": [
      "yes    169\n",
      "no      99\n",
      "Name: Data availability statement (yes/no), dtype: int64\n"
     ]
    }
   ],
   "source": [
    "print(df['Data availability statement (yes/no)'].value_counts())"
   ]
  },
  {
   "cell_type": "code",
   "execution_count": 29,
   "id": "acting-significance",
   "metadata": {},
   "outputs": [
    {
     "name": "stdout",
     "output_type": "stream",
     "text": [
      "No     275\n",
      "Yes    205\n",
      "Name: Code availability statement (Yes/No), dtype: int64\n"
     ]
    }
   ],
   "source": [
    "print(df['Code availability statement (Yes/No)'].value_counts())"
   ]
  },
  {
   "cell_type": "code",
   "execution_count": 30,
   "id": "parliamentary-ladder",
   "metadata": {},
   "outputs": [
    {
     "name": "stdout",
     "output_type": "stream",
     "text": [
      "                  Availability  Percentage\n",
      "0  Data Availability Statement       63.05\n",
      "1            Data Availability       36.20\n"
     ]
    },
    {
     "data": {
      "image/png": "[encoded data removed]",
      "text/plain": [
       "<Figure size 288x144 with 1 Axes>"
      ]
     },
     "metadata": {},
     "output_type": "display_data"
    }
   ],
   "source": [
    "## Statement vs sharing \n",
    "data = {'Availability':['Data Availability Statement', 'Data Availability'],  \n",
    "        'Percentage':[63.05, 36.2]}\n",
    "\n",
    "df4 = pd.DataFrame(data, columns=['Availability','Percentage'])\n",
    "print(df4)\n",
    "\n",
    "fig, ax= plt.subplots(figsize = (4,2)) \n",
    "#cornflowerblue - data\n",
    "#gold - code\n",
    "colors = ['cornflowerblue', 'cornflowerblue']\n",
    "\n",
    "sns.set_style('white')\n",
    "sns.set_context('talk')\n",
    "\n",
    "overall = sns.barplot(data = df4, x = 'Percentage', y =  'Availability', ci=None, palette=colors)\n",
    "\n",
    "plt.yticks(fontsize=14)\n",
    "plt.xticks(fontsize=14)\n",
    "plt.ylabel('')\n",
    "plt.xlabel('Percentage',fontsize=14)\n",
    "\n",
    "##to get horizontal barplot with percentage\n",
    "for p in ax.patches:\n",
    "    width = p.get_width()    # get bar length\n",
    "    ax.text(width + 1,       # set the text at 1 unit right of the bar\n",
    "            p.get_y() + p.get_height() / 2, # get Y coordinate + X coordinate / 2\n",
    "            '{:1.1f}'.format(width)+'%', # set variable to display, 2 decimals\n",
    "            ha = 'left',   # horizontal alignment\n",
    "            va = 'center', fontsize=14)  # vertical alignment\n",
    "\n",
    "sns.despine()"
   ]
  },
  {
   "cell_type": "code",
   "execution_count": 34,
   "id": "thrown-penetration",
   "metadata": {},
   "outputs": [
    {
     "name": "stdout",
     "output_type": "stream",
     "text": [
      "                  Availability  Percentage\n",
      "0  Code Availability Statement        42.7\n",
      "1            Code Availability         9.0\n"
     ]
    },
    {
     "data": {
      "image/png": "[encoded data removed]",
      "text/plain": [
       "<Figure size 288x144 with 1 Axes>"
      ]
     },
     "metadata": {},
     "output_type": "display_data"
    }
   ],
   "source": [
    "## Statement vs sharing \n",
    "data = {'Availability':['Code Availability Statement', 'Code Availability'],  \n",
    "        'Percentage':[42.7, 9.0]}\n",
    "\n",
    "df4 = pd.DataFrame(data, columns=['Availability','Percentage'])\n",
    "print(df4)\n",
    "\n",
    "fig, ax= plt.subplots(figsize = (4,2)) \n",
    "#cornflowerblue - data\n",
    "#gold - code\n",
    "colors = ['gold', 'gold']\n",
    "\n",
    "sns.set_style('white')\n",
    "sns.set_context('talk')\n",
    "\n",
    "overall = sns.barplot(data = df4, x = 'Percentage', y =  'Availability', ci=None, palette=colors)\n",
    "\n",
    "plt.yticks(fontsize=14)\n",
    "plt.xticks(fontsize=14)\n",
    "plt.ylabel('')\n",
    "plt.xlabel('Percentage',fontsize=14)\n",
    "plt.xlim(xmax=60)\n",
    "\n",
    "##to get horizontal barplot with percentage\n",
    "for p in ax.patches:\n",
    "    width = p.get_width()    # get bar length\n",
    "    ax.text(width + 1,       # set the text at 1 unit right of the bar\n",
    "            p.get_y() + p.get_height() / 2, # get Y coordinate + X coordinate / 2\n",
    "            '{:1.1f}'.format(width)+'%', # set variable to display, 2 decimals\n",
    "            ha = 'left',   # horizontal alignment\n",
    "            va = 'center', fontsize=14)  # vertical alignment\n",
    "\n",
    "sns.despine()"
   ]
  },
  {
   "cell_type": "code",
   "execution_count": null,
   "id": "through-plain",
   "metadata": {},
   "outputs": [],
   "source": []
  }
 ],
 "metadata": {
  "kernelspec": {
   "display_name": "Python 3",
   "language": "python",
   "name": "python3"
  },
  "language_info": {
   "codemirror_mode": {
    "name": "ipython",
    "version": 3
   },
   "file_extension": ".py",
   "mimetype": "text/x-python",
   "name": "python",
   "nbconvert_exporter": "python",
   "pygments_lexer": "ipython3",
   "version": "3.7.9"
  }
 },
 "nbformat": 4,
 "nbformat_minor": 5
}
